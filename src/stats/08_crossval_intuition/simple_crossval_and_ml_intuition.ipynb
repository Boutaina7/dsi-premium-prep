{
 "cells": [
  {
   "cell_type": "markdown",
   "metadata": {},
   "source": [
    "# A Scatterplot\n",
    "\n",
    "$$\n",
    "f(x) = ax^4 + bx^3 + cx^2 + dx + C\n",
    "$$"
   ]
  },
  {
   "cell_type": "code",
   "execution_count": 22,
   "metadata": {},
   "outputs": [
    {
     "data": {
      "image/png": "[encoded data removed]",
      "text/plain": [
       "<Figure size 432x288 with 1 Axes>"
      ]
     },
     "metadata": {
      "needs_background": "light"
     },
     "output_type": "display_data"
    }
   ],
   "source": [
    "import numpy as np\n",
    "import matplotlib.pyplot as plt\n",
    "\n",
    "def plot_scatter_fit(num_samps=50, fit_complexity=1, degree=1):\n",
    "    N = num_samps\n",
    "    \n",
    "    np.random.seed(seed=23)\n",
    "    \n",
    "    # gen rand values\n",
    "    x = np.random.rand(N)*20\n",
    "\n",
    "    # def polynomial\n",
    "    if degree==1:\n",
    "        y = 5*x + 3\n",
    "    elif degree==2:\n",
    "        y = 3*x**2 + 5*x + 3\n",
    "    elif degree==3:\n",
    "        y = -0.2*x**3 + 3*x**2 + 5*x + 3\n",
    "    elif degree==4:\n",
    "        y = 0.006*x**4 + -0.2*x**3 + 3*x**2 + 5*x + 3\n",
    "        \n",
    "    # get range of y\n",
    "    y_val_range = np.ptp(y)\n",
    "    \n",
    "    # add noise\n",
    "    y = [pt + np.random.normal(loc=0.0, scale=((1./10)*y_val_range))\n",
    "        for pt in y]\n",
    "        \n",
    "    # drawn line\n",
    "    fit_complexity_ = fit_complexity\n",
    "    regr = np.poly1d(np.polyfit(x, y, fit_complexity_))(np.unique(x))\n",
    "\n",
    "    # plot\n",
    "    plt.title(f'N: {N}\\n' +\n",
    "              f'data_degree: {degree}\\n'\n",
    "              f'fit_complexity: {fit_complexity}'\n",
    "             )\n",
    "    plt.scatter(x, y, c='y', alpha=0.5)\n",
    "    plt.plot(np.unique(x), regr)\n",
    "    \n",
    "    plt.show()\n",
    "\n",
    "plot_scatter_fit(num_samps=50, fit_complexity=1, degree=3)"
   ]
  },
  {
   "cell_type": "code",
   "execution_count": null,
   "metadata": {},
   "outputs": [],
   "source": []
  }
 ],
 "metadata": {
  "kernelspec": {
   "display_name": "Python 3",
   "language": "python",
   "name": "python3"
  },
  "language_info": {
   "codemirror_mode": {
    "name": "ipython",
    "version": 3
   },
   "file_extension": ".py",
   "mimetype": "text/x-python",
   "name": "python",
   "nbconvert_exporter": "python",
   "pygments_lexer": "ipython3",
   "version": "3.8.3"
  }
 },
 "nbformat": 4,
 "nbformat_minor": 4
}
