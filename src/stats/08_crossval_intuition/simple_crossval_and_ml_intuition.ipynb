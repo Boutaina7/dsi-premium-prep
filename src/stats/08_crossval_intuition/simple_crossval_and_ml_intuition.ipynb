{
 "cells": [
  {
   "cell_type": "code",
   "execution_count": 3,
   "metadata": {},
   "outputs": [],
   "source": [
    "import warnings\n",
    "warnings.filterwarnings('ignore')"
   ]
  },
  {
   "source": [
    "# Cross Val Intuition"
   ],
   "cell_type": "markdown",
   "metadata": {}
  },
  {
   "cell_type": "code",
   "execution_count": null,
   "metadata": {},
   "outputs": [],
   "source": [
    "import numpy as np\n",
    "import matplotlib.pyplot as plt\n",
    "\n",
    "def plot_scatter_fit(num_samps=50, fit_complexity=1, degree=1):\n",
    "    N = num_samps\n",
    "\n",
    "    np.random.seed(seed=23)\n",
    "\n",
    "    # gen rand x vals\n",
    "    x = np.random.rand(N)*20\n",
    "\n",
    "    # define polynomials\n",
    "    if degree==1:\n",
    "        y = 5*x + 3\n",
    "    if degree==2:\n",
    "        y = 3*x**2 + 5*x + 3\n",
    "    if degree==3:\n",
    "        y = -0.2*x**3 + 3*x**2 + 5*x + 3\n",
    "    if degree==4:\n",
    "        y = 0.006*x**4 + -0.2*x**3 + 3*x**2 + 5*x + 3\n",
    "\n",
    "    \n",
    "    # get scatter range\n",
    "    y_val_range = np.ptp(y)\n",
    "\n",
    "    # add normal noise\n",
    "    y = [pt + np.random.normal(loc=0.0, scale=((1./10)*y_val_range)) for pt in y]\n",
    "\n",
    "\n",
    "    # draw a line\n",
    "    fit_complexity_ = fit_complexity\n",
    "    regr = np.poly1d(np.polyfit(x, y, fit_complexity_))(np.unique(x))\n",
    "\n",
    "\n",
    "    # plot\n",
    "    plt.title(f'N: {N}\\n' + \\\n",
    "              f'data_degree: {degree}' + \\\n",
    "              f'fit_complexity: {fit_complexity}'\n",
    "              )\n",
    "\n",
    "    plt.scatter(x, y, c='y', alpha=0.5)\n",
    "    plt.plot(np.unique(x), regr)\n",
    "\n",
    "    plt.show()"
   ]
  }
 ],
 "metadata": {
  "kernelspec": {
   "display_name": "Python 3",
   "language": "python",
   "name": "python3"
  },
  "language_info": {
   "codemirror_mode": {
    "name": "ipython",
    "version": 3
   },
   "file_extension": ".py",
   "mimetype": "text/x-python",
   "name": "python",
   "nbconvert_exporter": "python",
   "pygments_lexer": "ipython3",
   "version": "3.8.3-final"
  }
 },
 "nbformat": 4,
 "nbformat_minor": 4
}