{
 "cells": [
  {
   "cell_type": "markdown",
   "metadata": {},
   "source": [
    "# A Scatterplot\n",
    "\n",
    "$$\n",
    "f(x) = ax^4 + bx^3 + cx^2 + dx + C\n",
    "$$"
   ]
  },
  {
   "cell_type": "code",
   "execution_count": 11,
   "metadata": {},
   "outputs": [
    {
     "name": "stdout",
     "output_type": "stream",
     "text": [
      "[ 54.72978838  97.69626038  79.54597594  31.2395844   25.10453633\n",
      "  71.62220852  19.71392031  42.24424665  64.80523473  44.19300949\n",
      "   3.24648812  91.40321824  91.49475384  33.04096894  61.95818652\n",
      " 100.8426916   87.50938221   9.50754391  32.47444647  31.7934441\n",
      "  85.24663391  65.6183038   14.04777139   3.05288112  97.21662329\n",
      "  17.15007577  45.15965262  37.64894401  89.97850844  45.86018124\n",
      "  85.87514843  74.78518382  14.92266942  62.63841727  15.97562977\n",
      "  10.75340917  86.12052557  49.43856148  19.2012479   57.79752921\n",
      "  61.84858218  80.36131691  68.5845458   58.77067595  20.82472666\n",
      "  27.05835312  53.60546324  42.67456988  51.30551854  98.57398411]\n"
     ]
    }
   ],
   "source": [
    "import numpy as np\n",
    "import matplotlib.pyplot as plt\n",
    "\n",
    "def plot_scatter_fit(num_samps=50, fit_complexity=1, degree=1):\n",
    "    N = num_samps\n",
    "    \n",
    "    np.random.seed(seed=23)\n",
    "    \n",
    "    # gen rand values\n",
    "    x = np.random.rand(N)*20\n",
    "\n",
    "    # def polynomial\n",
    "    if degree==1:\n",
    "        y = 5*x + 3\n",
    "    elif degree==2:\n",
    "        y = 3*x**2 + 5*x + 3\n",
    "    elif degree==3:\n",
    "        y = -0.2*x**3 + 3*x**2 + 5*x + 3\n",
    "    elif degree==4:\n",
    "        y = 0.006*x**4 + -0.2*x**3 + 3*x**2 + 5*x + 3\n",
    "        \n",
    "    # get range of y\n",
    "    y_val_range = np.ptp(y)\n",
    "    \n",
    "    # add noise\n",
    "    y = [pt + np.random.normal(loc=0.0, scale=((1./10)*y_val_range))\n",
    "        for pt in y]\n",
    "        \n",
    "    \n",
    "\n",
    "plot_scatter_fit(num_samps=50, fit_complexity=1, degree=1)"
   ]
  },
  {
   "cell_type": "code",
   "execution_count": null,
   "metadata": {},
   "outputs": [],
   "source": []
  }
 ],
 "metadata": {
  "kernelspec": {
   "display_name": "Python 3",
   "language": "python",
   "name": "python3"
  },
  "language_info": {
   "codemirror_mode": {
    "name": "ipython",
    "version": 3
   },
   "file_extension": ".py",
   "mimetype": "text/x-python",
   "name": "python",
   "nbconvert_exporter": "python",
   "pygments_lexer": "ipython3",
   "version": "3.8.3"
  }
 },
 "nbformat": 4,
 "nbformat_minor": 4
}
